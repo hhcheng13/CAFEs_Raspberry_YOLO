{
 "cells": [
  {
   "cell_type": "markdown",
   "id": "053a3076",
   "metadata": {
    "id": "053a3076"
   },
   "source": [
    "## Notebook for Fine-Tuning the YOLOv11n on Customs Datasets"
   ]
  },
  {
   "cell_type": "code",
   "execution_count": null,
   "id": "5f2f4483-81e9-4378-8e98-222ed56e0bad",
   "metadata": {
    "executionInfo": {
     "elapsed": 868,
     "status": "ok",
     "timestamp": 1727809608049,
     "user": {
      "displayName": "Alessio Desogus",
      "userId": "05061804989687486718"
     },
     "user_tz": -120
    },
    "id": "5f2f4483-81e9-4378-8e98-222ed56e0bad"
   },
   "outputs": [],
   "source": [
    "import cv2\n",
    "import matplotlib.pyplot as plt\n",
    "import glob\n",
    "import random\n",
    "import os"
   ]
  },
  {
   "cell_type": "code",
   "execution_count": null,
   "id": "05254a7b",
   "metadata": {},
   "outputs": [],
   "source": [
    "# Define global variables for image and label paths with ID 1 for camera 1 (& 2 for camera 2)\n",
    "cam_id = 2 \n",
    "DATASET_PATH = f\"../data/camera_{cam_id}\"\n",
    "TRAIN_IMAGE_PATH = DATASET_PATH + \"/train/images/\"\n",
    "TRAIN_LABEL_PATH = DATASET_PATH + \"/train/labels/\""
   ]
  },
  {
   "cell_type": "markdown",
   "id": "67106dfe-ce91-48d1-ac7b-d40093ca040b",
   "metadata": {
    "id": "67106dfe-ce91-48d1-ac7b-d40093ca040b"
   },
   "source": [
    "## Visualize Images from the Dataset"
   ]
  },
  {
   "cell_type": "code",
   "execution_count": null,
   "id": "ef2f34fc-564c-4cfd-928a-33fd6cacaf59",
   "metadata": {
    "executionInfo": {
     "elapsed": 322,
     "status": "ok",
     "timestamp": 1727809647847,
     "user": {
      "displayName": "Alessio Desogus",
      "userId": "05061804989687486718"
     },
     "user_tz": -120
    },
    "id": "ef2f34fc-564c-4cfd-928a-33fd6cacaf59"
   },
   "outputs": [],
   "source": [
    "def yolo2bbox(bbox):\n",
    "    \"\"\"\n",
    "    Convert YOLO format bounding box to (xmin, ymin, xmax, ymax).\n",
    "\n",
    "    Args:\n",
    "        bbox (list or tuple): [x_center, y_center, width, height] (all normalized).\n",
    "\n",
    "    Returns:\n",
    "        tuple: (xmin, ymin, xmax, ymax) (all normalized).\n",
    "    \"\"\"\n",
    "    xmin = bbox[0] - bbox[2] / 2\n",
    "    ymin = bbox[1] - bbox[3] / 2\n",
    "    xmax = bbox[0] + bbox[2] / 2\n",
    "    ymax = bbox[1] + bbox[3] / 2\n",
    "    return xmin, ymin, xmax, ymax"
   ]
  },
  {
   "cell_type": "code",
   "execution_count": null,
   "id": "5a213ff6-fb28-4541-80f4-0f8c67323d9b",
   "metadata": {
    "executionInfo": {
     "elapsed": 345,
     "status": "ok",
     "timestamp": 1727809649433,
     "user": {
      "displayName": "Alessio Desogus",
      "userId": "05061804989687486718"
     },
     "user_tz": -120
    },
    "id": "5a213ff6-fb28-4541-80f4-0f8c67323d9b"
   },
   "outputs": [],
   "source": [
    "def plot_box(image, bboxes):\n",
    "    \"\"\"\n",
    "    Draw bounding boxes on the image.\n",
    "\n",
    "    Args:\n",
    "        image (np.ndarray): The input image.\n",
    "        bboxes (list): List of bounding boxes in YOLO format [x_center, y_center, width, height].\n",
    "\n",
    "    Returns:\n",
    "        np.ndarray: Image with bounding boxes drawn.\n",
    "    \"\"\"\n",
    "    h, w, _ = image.shape\n",
    "    for box_num, box in enumerate(bboxes):\n",
    "        x1, y1, x2, y2 = yolo2bbox(box)\n",
    "        xmin = int(x1 * w)\n",
    "        ymin = int(y1 * h)\n",
    "        xmax = int(x2 * w)\n",
    "        ymax = int(y2 * h)\n",
    "\n",
    "        thickness = max(2, int(w / 275))\n",
    "\n",
    "        cv2.rectangle(\n",
    "            image, (xmin, ymin), (xmax, ymax), color=(0, 0, 255), thickness=thickness\n",
    "        )\n",
    "    return image"
   ]
  },
  {
   "cell_type": "code",
   "execution_count": null,
   "id": "17582d3e-2f08-430b-ab70-abced31cbe3c",
   "metadata": {
    "executionInfo": {
     "elapsed": 336,
     "status": "ok",
     "timestamp": 1727809651766,
     "user": {
      "displayName": "Alessio Desogus",
      "userId": "05061804989687486718"
     },
     "user_tz": -120
    },
    "id": "17582d3e-2f08-430b-ab70-abced31cbe3c"
   },
   "outputs": [],
   "source": [
    "def plot(image_paths, label_paths, num_samples):\n",
    "    \"\"\"\n",
    "    Visualize random samples from the dataset with bounding boxes.\n",
    "\n",
    "    Args:\n",
    "        image_paths (str): Path to the directory containing images.\n",
    "        label_paths (str): Path to the directory containing label files.\n",
    "        num_samples (int): Number of samples to visualize.\n",
    "\n",
    "    Returns:\n",
    "        None\n",
    "    \"\"\"\n",
    "    all_images = []\n",
    "    all_images.extend(glob.glob(image_paths + \"/*.jpg\"))\n",
    "    all_images.sort()\n",
    "    num_images = len(all_images)\n",
    "\n",
    "    print(f\"Number of images found: {num_images}\")\n",
    "\n",
    "    if num_images == 0:\n",
    "        print(f\"No images found in the directory: {image_paths}\")\n",
    "        return\n",
    "\n",
    "    plt.figure(figsize=(15, 12))\n",
    "    for i in range(min(num_samples, num_images)):\n",
    "        j = random.randint(0, num_images - 1)\n",
    "        image_path = all_images[j]\n",
    "        image_name = \".\".join(image_path.split(os.path.sep)[-1].split(\".\")[:-1])\n",
    "        image = cv2.imread(image_path)\n",
    "\n",
    "        if image is None:\n",
    "            print(f\"Failed to load image: {image_path}\")\n",
    "            continue\n",
    "\n",
    "        label_file = os.path.join(label_paths, image_name + \".txt\")\n",
    "\n",
    "        if not os.path.exists(label_file):\n",
    "            print(f\"Label file not found: {label_file}\")\n",
    "            continue\n",
    "\n",
    "        try:\n",
    "            with open(label_file, \"r\") as f:\n",
    "                bboxes = []\n",
    "                labels = []\n",
    "                label_lines = f.readlines()\n",
    "                for line_num, label_line in enumerate(label_lines, 1):\n",
    "                    parts = label_line.strip().split()\n",
    "                    if len(parts) != 5:\n",
    "                        raise ValueError(\n",
    "                            f\"Unexpected format in {label_file}, line {line_num}: {label_line.strip()}\"\n",
    "                        )\n",
    "\n",
    "                    label, x_c, y_c, w, h = parts\n",
    "                    x_c, y_c, w, h = map(float, (x_c, y_c, w, h))\n",
    "                    bboxes.append([x_c, y_c, w, h])\n",
    "                    labels.append(label)\n",
    "\n",
    "            result_image = plot_box(image, bboxes)\n",
    "            plt.subplot(2, 2, i + 1)\n",
    "            plt.imshow(result_image[:, :, ::-1])\n",
    "            plt.axis(\"off\")\n",
    "        except Exception as e:\n",
    "            print(f\"Error processing file: {image_path}\")\n",
    "            print(f\"Corresponding label file: {label_file}\")\n",
    "            print(f\"Error: {str(e)}\")\n",
    "            continue\n",
    "\n",
    "    plt.subplots_adjust(wspace=1)\n",
    "    plt.tight_layout()\n",
    "    plt.show()\n",
    "    return None"
   ]
  },
  {
   "cell_type": "code",
   "execution_count": null,
   "id": "29598f69-a9a2-4e3f-bcd4-18255a9d7f19",
   "metadata": {
    "colab": {
     "base_uri": "https://localhost:8080/",
     "height": 989,
     "output_embedded_package_id": "1bMYBStSDNZv0V3_zr6Be_h2UHr4evFve"
    },
    "executionInfo": {
     "elapsed": 18849,
     "status": "ok",
     "timestamp": 1727809688784,
     "user": {
      "displayName": "Alessio Desogus",
      "userId": "05061804989687486718"
     },
     "user_tz": -120
    },
    "id": "29598f69-a9a2-4e3f-bcd4-18255a9d7f19",
    "outputId": "6607bc81-7a49-422f-ff8f-5f12784962f1"
   },
   "outputs": [],
   "source": [
    "# Visualize a few training images.\n",
    "plot(\n",
    "    image_paths=TRAIN_IMAGE_PATH,\n",
    "    label_paths=TRAIN_LABEL_PATH,\n",
    "    num_samples=4,\n",
    ")"
   ]
  },
  {
   "cell_type": "markdown",
   "id": "c25ceb15-6d00-4afa-a349-4dd4fdcf5193",
   "metadata": {
    "id": "c25ceb15-6d00-4afa-a349-4dd4fdcf5193"
   },
   "source": [
    "## Dataset YAML File"
   ]
  },
  {
   "cell_type": "code",
   "execution_count": null,
   "id": "b0031a4a-b114-444f-bc9e-e5e30ac79e42",
   "metadata": {
    "colab": {
     "base_uri": "https://localhost:8080/"
    },
    "executionInfo": {
     "elapsed": 353,
     "status": "ok",
     "timestamp": 1727809702811,
     "user": {
      "displayName": "Alessio Desogus",
      "userId": "05061804989687486718"
     },
     "user_tz": -120
    },
    "id": "b0031a4a-b114-444f-bc9e-e5e30ac79e42",
    "outputId": "dee5c132-bb17-47d5-e909-4ca376a920db"
   },
   "outputs": [],
   "source": [
    "def write_yolov11n_config(dataset_path, filepath):\n",
    "  \"\"\"\n",
    "  Write a YOLOv11n dataset config YAML file.\n",
    "\n",
    "  Args:\n",
    "    dataset_path (str): Path to the dataset root.\n",
    "    filepath (str): Output YAML filename.\n",
    "  \"\"\"\n",
    "  content = f\"\"\"path: {dataset_path}\n",
    "train: 'train/images'\n",
    "val: 'valid/images'\n",
    "\n",
    "# class names\n",
    "names:\n",
    "  0: 'Riped berries'\n",
    "\"\"\"\n",
    "  with open(filepath, \"w\") as f:\n",
    "    f.write(content)"
   ]
  },
  {
   "cell_type": "code",
   "execution_count": null,
   "id": "90f13ce2",
   "metadata": {},
   "outputs": [],
   "source": [
    "DATA_CONFIG = f\"yolov11n_config_camera_{cam_id}.yaml\"\n",
    "write_yolov11n_config(DATASET_PATH, DATA_CONFIG)"
   ]
  },
  {
   "cell_type": "markdown",
   "id": "9e86ee50-a8f0-4500-a001-42fb3f18439d",
   "metadata": {
    "id": "9e86ee50-a8f0-4500-a001-42fb3f18439d"
   },
   "source": [
    "## YOLOv11 Nano Fine-Tuning"
   ]
  },
  {
   "cell_type": "code",
   "execution_count": null,
   "id": "0c444df2",
   "metadata": {},
   "outputs": [],
   "source": [
    "# Define fine-tuning parameters\n",
    "EPOCHS = 5\n",
    "BATCH_SIZE = 8\n",
    "IMAGE_SIZE = 1280\n",
    "BASE_MODEL = \"yolo11n.pt\"\n",
    "BEST_MODEL = f\"runs/detect/camera_{cam_id}/yolov11n_train/weights/best.pt\""
   ]
  },
  {
   "cell_type": "code",
   "execution_count": null,
   "id": "81a6b664-8e6f-4e31-ba6b-304164c40e1a",
   "metadata": {
    "colab": {
     "base_uri": "https://localhost:8080/"
    },
    "executionInfo": {
     "elapsed": 1372960,
     "status": "ok",
     "timestamp": 1727811182506,
     "user": {
      "displayName": "Alessio Desogus",
      "userId": "05061804989687486718"
     },
     "user_tz": -120
    },
    "id": "81a6b664-8e6f-4e31-ba6b-304164c40e1a",
    "outputId": "aaa0696f-9ded-4f86-a86a-6fddaa2f7a1b",
    "scrolled": true,
    "tags": []
   },
   "outputs": [],
   "source": [
    "!yolo task = detect \\\n",
    "    mode = train \\\n",
    "    model = {BASE_MODEL} \\\n",
    "    imgsz = {IMAGE_SIZE} \\\n",
    "    epochs = {EPOCHS} \\\n",
    "    batch = {BATCH_SIZE} \\\n",
    "    data = {DATA_CONFIG} \\\n",
    "    name = \"camera_{cam_id}/yolov11n_train\""
   ]
  },
  {
   "cell_type": "markdown",
   "id": "5fcdabf1-0ebe-4f42-a6a5-7ff8e4df4875",
   "metadata": {
    "id": "5fcdabf1-0ebe-4f42-a6a5-7ff8e4df4875"
   },
   "source": [
    "## Evaluation on Validation Images"
   ]
  },
  {
   "cell_type": "code",
   "execution_count": null,
   "id": "da37c627-b4f0-442f-9e60-7035f486c302",
   "metadata": {
    "colab": {
     "base_uri": "https://localhost:8080/"
    },
    "executionInfo": {
     "elapsed": 52679,
     "status": "ok",
     "timestamp": 1727811302411,
     "user": {
      "displayName": "Alessio Desogus",
      "userId": "05061804989687486718"
     },
     "user_tz": -120
    },
    "id": "da37c627-b4f0-442f-9e60-7035f486c302",
    "outputId": "7deca04d-e795-4c7e-d216-d3d4553e2601",
    "scrolled": true,
    "tags": []
   },
   "outputs": [],
   "source": [
    "!yolo task = detect \\\n",
    "    mode = val \\\n",
    "    model = {BEST_MODEL} \\\n",
    "    data = {DATA_CONFIG} \\\n",
    "    name = \"camera_{cam_id}/yolov11n_eval\""
   ]
  },
  {
   "cell_type": "markdown",
   "id": "03071a7c-6c2b-45e0-8a9c-f37384fab77e",
   "metadata": {
    "id": "03071a7c-6c2b-45e0-8a9c-f37384fab77e"
   },
   "source": [
    "## Inference on Validation Images"
   ]
  },
  {
   "cell_type": "code",
   "execution_count": null,
   "id": "b2e2073a-d46e-47f4-8b82-de3d424ef633",
   "metadata": {
    "colab": {
     "base_uri": "https://localhost:8080/"
    },
    "executionInfo": {
     "elapsed": 42719,
     "status": "ok",
     "timestamp": 1727811345126,
     "user": {
      "displayName": "Alessio Desogus",
      "userId": "05061804989687486718"
     },
     "user_tz": -120
    },
    "id": "b2e2073a-d46e-47f4-8b82-de3d424ef633",
    "outputId": "0753711d-fea7-4f62-aeff-fbaecda42a4a",
    "scrolled": true,
    "tags": []
   },
   "outputs": [],
   "source": [
    "!yolo task = detect \\\n",
    "    mode = predict \\\n",
    "    model = {BEST_MODEL} \\\n",
    "    source = \"../data/camera_{cam_id}/valid/images\" \\\n",
    "    imgsz = {IMAGE_SIZE} \\\n",
    "    name = \"camera_{cam_id}/yolov11n_inference\" \\\n",
    "    hide_labels = True"
   ]
  },
  {
   "cell_type": "markdown",
   "id": "53b20328-2e16-4ef0-855c-5212b058e539",
   "metadata": {
    "id": "53b20328-2e16-4ef0-855c-5212b058e539"
   },
   "source": [
    "## Visualize Validation Results"
   ]
  },
  {
   "cell_type": "code",
   "execution_count": null,
   "id": "06dcd014-8a95-424e-b443-0ae3bd404431",
   "metadata": {
    "executionInfo": {
     "elapsed": 14,
     "status": "ok",
     "timestamp": 1727811345126,
     "user": {
      "displayName": "Alessio Desogus",
      "userId": "05061804989687486718"
     },
     "user_tz": -120
    },
    "id": "06dcd014-8a95-424e-b443-0ae3bd404431"
   },
   "outputs": [],
   "source": [
    "def visualize(result_dir, num_samples=4):\n",
    "    \"\"\"\n",
    "    Function accepts a directory of images and plots\n",
    "    them in a 2x2 grid.\n",
    "\n",
    "    Args:\n",
    "        result_dir (str): Path to the directory containing result images.\n",
    "        num_samples (int): Number of images to visualize (default is 4).\n",
    "\n",
    "    Returns:\n",
    "        None\n",
    "    \"\"\"\n",
    "    plt.figure(figsize=(20, 12))\n",
    "    # Remove leading slash if present\n",
    "    result_dir = result_dir.lstrip(\"/\")\n",
    "    image_names = glob.glob(os.path.join(result_dir, \"*.jpg\"))\n",
    "    if not image_names:\n",
    "        print(f\"No images found in {result_dir}\")\n",
    "        return\n",
    "    random.shuffle(image_names)\n",
    "    for i, image_name in enumerate(image_names[:num_samples]):\n",
    "        image = plt.imread(image_name)\n",
    "        plt.subplot(2, 2, i + 1)\n",
    "        plt.imshow(image)\n",
    "        plt.axis(\"off\")\n",
    "    plt.tight_layout()\n",
    "    plt.show()"
   ]
  },
  {
   "cell_type": "code",
   "execution_count": null,
   "id": "d2b3f113-cc15-4a46-906a-9884ca3780d1",
   "metadata": {
    "colab": {
     "base_uri": "https://localhost:8080/",
     "height": 911,
     "output_embedded_package_id": "1vNYxkwDLNPvxrU-W9sARUE0_hh0FocNZ"
    },
    "executionInfo": {
     "elapsed": 5992,
     "status": "ok",
     "timestamp": 1727811351104,
     "user": {
      "displayName": "Alessio Desogus",
      "userId": "05061804989687486718"
     },
     "user_tz": -120
    },
    "id": "d2b3f113-cc15-4a46-906a-9884ca3780d1",
    "outputId": "ddbcbe79-4d0c-4c80-ae76-96397494c269"
   },
   "outputs": [],
   "source": [
    "visualize(f\"/runs/detect/camera_{cam_id}/yolov11n_inference/\")"
   ]
  }
 ],
 "metadata": {
  "accelerator": "GPU",
  "colab": {
   "provenance": []
  },
  "gpuClass": "standard",
  "kernelspec": {
   "display_name": "agricobot",
   "language": "python",
   "name": "python3"
  },
  "language_info": {
   "codemirror_mode": {
    "name": "ipython",
    "version": 3
   },
   "file_extension": ".py",
   "mimetype": "text/x-python",
   "name": "python",
   "nbconvert_exporter": "python",
   "pygments_lexer": "ipython3",
   "version": "3.10.18"
  }
 },
 "nbformat": 4,
 "nbformat_minor": 5
}
